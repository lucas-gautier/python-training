{
 "cells": [
  {
   "cell_type": "markdown",
   "metadata": {},
   "source": [
    "# Hello Python 3, Goodbye Python 2\n",
    "\n",
    "The first question is always, \"Should I use Python 3.X or Python 2.X?\"\n",
    "\n",
    "## Some Facts:\n",
    "* Python 2.7 expected End Of Life (EOL) is in January 2020 - thats soon!\n",
    "* The Python Foundation will no longer support it after that\n",
    "* About 95% of the Python 2.X modules have converted to Python 3\n",
    "* There are some noticable differences between the two.\n",
    "\n",
    "Let's look at one key difference and we will use \"Hello World\" as the example"
   ]
  },
  {
   "cell_type": "markdown",
   "metadata": {},
   "source": [
    "## In Python 2.X:\n",
    "\n",
    "you would type \n",
    "\n",
    "~~~python\n",
    "print \"Hello World\"\n",
    "~~~\n",
    "\n",
    "But try that same statement in Python 3"
   ]
  },
  {
   "cell_type": "code",
   "execution_count": null,
   "metadata": {},
   "outputs": [],
   "source": [
    "print \"Hello World\""
   ]
  },
  {
   "cell_type": "markdown",
   "metadata": {},
   "source": [
    "You should of gotten an error... \n",
    "### But why\n",
    "\n",
    "In Python 2.X, print is called a print statement.\n",
    "\n",
    "In Python 3.X, print has become a function.  And like any function, it needs a method call.\n",
    "Print now looks like this\n",
    "~~~python\n",
    "print(*object, sep='', end='\\n', file='sys.stdout', flush=False)\n",
    "~~~\n",
    "\n",
    "Let's use it"
   ]
  },
  {
   "cell_type": "code",
   "execution_count": null,
   "metadata": {},
   "outputs": [],
   "source": [
    "print(\"Hello World, I am Python 3\")"
   ]
  },
  {
   "cell_type": "code",
   "execution_count": null,
   "metadata": {},
   "outputs": [],
   "source": [
    "print(\"Hello World\", \"I am Python 3\", sep=\", \")"
   ]
  },
  {
   "cell_type": "markdown",
   "metadata": {},
   "source": [
    "### How about Input\n",
    "\n",
    "In Python 2.X you have two functions that would get user input: \n",
    "~~~python\n",
    "raw_input([Prompt])\n",
    "inpur([Prompt])\n",
    "~~~\n",
    "\n",
    "What's the difference between the two.  Well:\n",
    "~~~python\n",
    "input([prompt]) = eval(raw_input(prompt))\n",
    "~~~\n",
    "Also when you read Python's documentation they say to just use `raw_input()` because `input()` is prone to syntax errors due to the `eval()`\n",
    "\n",
    "**Soooo**\n",
    "\n",
    "In Python 3, the Python Foundation renamed `raw_input()` to `input()` and depricated the Python 2.X version of `input()`\n",
    "\n",
    "Lets use it"
   ]
  },
  {
   "cell_type": "code",
   "execution_count": null,
   "metadata": {},
   "outputs": [],
   "source": [
    "import readline\n",
    "user_name = input(\"What is your name? \")\n",
    "print('\\nOh hello there {}, welcome to python class!'.format(user_name.title()))"
   ]
  },
  {
   "cell_type": "code",
   "execution_count": null,
   "metadata": {},
   "outputs": [],
   "source": [
    "print(\"Hello {0}! I am Python 3\".format(user_name))"
   ]
  },
  {
   "cell_type": "markdown",
   "metadata": {},
   "source": [
    "For more about the differences please check out [What's New in Python 3.0](https://docs.python.org/3.0/whatsnew/3.0.html)"
   ]
  }
 ],
 "metadata": {
  "kernelspec": {
   "display_name": "Python 3",
   "language": "python",
   "name": "python3"
  },
  "language_info": {
   "codemirror_mode": {
    "name": "ipython",
    "version": 3
   },
   "file_extension": ".py",
   "mimetype": "text/x-python",
   "name": "python",
   "nbconvert_exporter": "python",
   "pygments_lexer": "ipython3",
   "version": "3.7.3"
  }
 },
 "nbformat": 4,
 "nbformat_minor": 2
}
