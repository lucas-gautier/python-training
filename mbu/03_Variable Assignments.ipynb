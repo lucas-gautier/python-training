{
 "cells": [
  {
   "cell_type": "markdown",
   "metadata": {},
   "source": [
    "# Variable Assignments\n",
    "Assigning names and creating variables.\n",
    "\n",
    "## Static Type vs. Dynamic Type\n",
    "**No need to put a type when declaring variables**\n",
    "No need for a keyword to declare a variable, such as **\"var\"** or **\"let**\n",
    "\n",
    "**All we need to use is a single equals sign to assign labels to variables.**\n",
    "\n",
    "### Commenting\n",
    "There are two ways to do a comment\n",
    "\n",
    "#### Single line/inline\n",
    "~~~python\n",
    "#This is how you make a comment in python\n",
    "~~~\n",
    "\n",
    "#### Block/Multi-line comments\n",
    "~~~python\n",
    "'''\n",
    "\"Let comments set you free.  Complete program documentation isn't just a good idea; it's the law! (At least it is in my classes and in just about every \"real life\" programming shop.) This collection of information and examples should allow you to correctly and completely document your programs.\" - Professor Lester McCann\n",
    "'''\n",
    "~~~\n",
    "\n",
    "[PEP 8 coding style.  Try to live by it.  Guido van Rossum thought it was important and he is the author](https://www.python.org/dev/peps/pep-0008/)\n",
    "\n",
    "Lets begin"
   ]
  },
  {
   "cell_type": "code",
   "execution_count": null,
   "metadata": {},
   "outputs": [],
   "source": [
    "# Let's create a variable called \"a\" and assign the number 5 to it.\n",
    "a = 5"
   ]
  },
  {
   "cell_type": "markdown",
   "metadata": {},
   "source": [
    "a is now treated as the number 5"
   ]
  },
  {
   "cell_type": "code",
   "execution_count": null,
   "metadata": {},
   "outputs": [],
   "source": [
    "# Adding the objects\n",
    "a+a"
   ]
  },
  {
   "cell_type": "markdown",
   "metadata": {},
   "source": [
    "Now lets try to reassign the variable"
   ]
  },
  {
   "cell_type": "code",
   "execution_count": null,
   "metadata": {},
   "outputs": [],
   "source": [
    "# Reassignment\n",
    "a = 10"
   ]
  },
  {
   "cell_type": "code",
   "execution_count": null,
   "metadata": {},
   "outputs": [],
   "source": [
    "a"
   ]
  },
  {
   "cell_type": "markdown",
   "metadata": {},
   "source": [
    "Python allows you to write over assigned variable names.  We can also use the the variables themselves when doing the reassignment."
   ]
  },
  {
   "cell_type": "code",
   "execution_count": null,
   "metadata": {},
   "outputs": [],
   "source": [
    "# a is currently\n",
    "a"
   ]
  },
  {
   "cell_type": "code",
   "execution_count": null,
   "metadata": {},
   "outputs": [],
   "source": [
    "# Ressign a again\n",
    "a = a + a"
   ]
  },
  {
   "cell_type": "code",
   "execution_count": null,
   "metadata": {},
   "outputs": [],
   "source": [
    "# a is now\n",
    "a"
   ]
  },
  {
   "cell_type": "markdown",
   "metadata": {},
   "source": [
    "The name you use when creating these labels need to follow a few rules:\n",
    "\n",
    "1. Names can not start with a number\n",
    "2. There can be no spaces in the name, use _ instead.\n",
    "3. Can't use any of these symbols : '\",<>/?|\\()!@#$%^&*`-=+. They are reserved by Python\n",
    "4. It's consider best practice (PEP 8 again) that names are lowercase.\n",
    "5. Use descriptive names for the variables."
   ]
  },
  {
   "cell_type": "code",
   "execution_count": null,
   "metadata": {},
   "outputs": [],
   "source": [
    "# Use object names to keep better track of what's happening in your code\n",
    "my_income = 100\n",
    "\n",
    "tax_rate = 0.1\n",
    "\n",
    "my_taxes = my_income * tax_rate"
   ]
  },
  {
   "cell_type": "code",
   "execution_count": null,
   "metadata": {},
   "outputs": [],
   "source": [
    "# Show my taxes\n",
    "my_taxes"
   ]
  }
 ],
 "metadata": {
  "kernelspec": {
   "display_name": "Python 3",
   "language": "python",
   "name": "python3"
  },
  "language_info": {
   "codemirror_mode": {
    "name": "ipython",
    "version": 3
   },
   "file_extension": ".py",
   "mimetype": "text/x-python",
   "name": "python",
   "nbconvert_exporter": "python",
   "pygments_lexer": "ipython3",
   "version": "3.7.3"
  }
 },
 "nbformat": 4,
 "nbformat_minor": 2
}
