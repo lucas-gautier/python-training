{
 "cells": [
  {
   "cell_type": "markdown",
   "metadata": {},
   "source": [
    "# Boy Scouts Python Lab\n",
    "You need to complete the excersises in this section for class credit. Copy and paste the code from the previous excersice into the next one. This way you have separate code sections for each problem.\n",
    "\n",
    "If you have a question,\n",
    "- sit **quietly**\n",
    "- raise your hand\n",
    "\n",
    "an instructor will be by as soon as they can."
   ]
  },
  {
   "cell_type": "markdown",
   "metadata": {},
   "source": [
    "## How to Use\n",
    " \n",
    "### Edit Mode\n",
    "- You are in edit mode when the box around the cell is *green*\n",
    "- Start edit mode with the ```Enter``` key.\n",
    "- Exit edit mode with the ```Esc``` key.\n",
    "\n",
    "### Command Mode\n",
    "- You are in command mode when the box around the cell is *blue*\n",
    "- Pressing ```Esc``` from Edit mode will take you to Command mode.\n",
    "\n",
    "### Running Code\n",
    "- From Command Mode, press ```Ctrl-Enter```"
   ]
  },
  {
   "cell_type": "markdown",
   "metadata": {},
   "source": [
    "## 1: Change the messages to have different advice.\n",
    "Your program should give better instructions on what do based on the temperature provided."
   ]
  },
  {
   "cell_type": "code",
   "execution_count": null,
   "metadata": {},
   "outputs": [],
   "source": [
    "continue_char = \"y\"\n",
    " \n",
    "while continue_char == \"y\":\n",
    "   # get temperature input from the user\n",
    "   input_degrees_f = input(\"Enter next temperature in degrees Farenheight (F):\")\n",
    "\n",
    "   # convert to integrer\n",
    "   degrees_f = int(input_degrees_f)\n",
    " \n",
    "   # calculate F to Celsius\n",
    "   degrees_c = (degrees_f - 32) * 5 / 9\n",
    " \n",
    "   print (\"Temperature in degrees C is: {}\".format(degrees_c))\n",
    " \n",
    "   # check for temperature below freezing point of water\n",
    "   if degrees_f < 32:\n",
    "      print (\"Pack long underwear!\")\n",
    " \n",
    "   # check for it being a hot day\n",
    "   if degrees_c > 95:\n",
    "      print (\"Remember to hydrate!\")\n",
    " \n",
    "   continue_char = input(\"Would you like to enter another temperature? [Enter y to continue]\")"
   ]
  },
  {
   "cell_type": "markdown",
   "metadata": {},
   "source": [
    "## 2: Change the temperature checks to different values.\n",
    "Needs to be different than number 1."
   ]
  },
  {
   "cell_type": "code",
   "execution_count": null,
   "metadata": {},
   "outputs": [],
   "source": [
    "# copy the code from prior problem"
   ]
  },
  {
   "cell_type": "markdown",
   "metadata": {},
   "source": [
    "## 3:Add another temperature trigger check\n",
    "Hint: you should have 3 if statements!"
   ]
  },
  {
   "cell_type": "code",
   "execution_count": null,
   "metadata": {},
   "outputs": [],
   "source": [
    "# copy the code from prior problem"
   ]
  },
  {
   "cell_type": "markdown",
   "metadata": {},
   "source": [
    "## 4: Change the program to accept your name **before** the while loop starts. Modify all of the output strings to use the name in the message.\n",
    "Each print message needs to have the name entered appear in the output. Ensure the output message makes sense!\n",
    "\n",
    "**Example**\n",
    "Lucas, the temperature in degrees C is..."
   ]
  },
  {
   "cell_type": "code",
   "execution_count": null,
   "metadata": {},
   "outputs": [],
   "source": [
    "# copy the code from prior problem"
   ]
  },
  {
   "cell_type": "markdown",
   "metadata": {},
   "source": [
    "## 5: Write a new to convert US Dollars into Euros.\n",
    "Use the exchange rate:\n",
    "- 1 US Dollar = 0.90 Euro\n",
    "\n",
    "The program should ask the user how many US Dollars they have and print the conversion to Euros.\n",
    "\n",
    "\n",
    "**Example Program Run**\n",
    "\n",
    "Enter US Dollars: 50\n",
    "\n",
    "You have 45 Euros."
   ]
  },
  {
   "cell_type": "code",
   "execution_count": null,
   "metadata": {},
   "outputs": [],
   "source": [
    "# write a new program!"
   ]
  },
  {
   "cell_type": "markdown",
   "metadata": {},
   "source": [
    "## 6: Add some friendly advice depending on the amount of money they have.\n",
    "Use the exchange rate:\n",
    "- 1 US Dollar = 0.90 Euro\n",
    "\n",
    "The program should ask the user how many US Dollars they have and print the conversion to Euros. Print a message if the person has a lot of money or is running low.\n",
    "\n",
    "\n",
    "**Example Program Run**\n",
    "\n",
    "Enter US Dollars: 5\n",
    "\n",
    "You have 4.50 Euros.\n",
    "You are running out of money!\n",
    "\n",
    "Would you like to convert another amount?  y\n",
    "\n",
    "Enter US Dollars:  145\n",
    "\n",
    "You have 130.50 Euros.\n",
    "Dang, you're rich!"
   ]
  },
  {
   "cell_type": "code",
   "execution_count": null,
   "metadata": {},
   "outputs": [],
   "source": [
    "# copy the code from prior problem"
   ]
  },
  {
   "cell_type": "markdown",
   "metadata": {},
   "source": [
    "## Congrats on finishing the python lab!\n",
    "\n",
    "When you think all of your code is ready for review, \n",
    "- sit **quietly**\n",
    "- raise your hand\n",
    "\n",
    "an instructor will be by to check your programs. \n",
    "\n",
    "## Saving Your Programs\n",
    "If you want to take a copy of your code with you, download a copy as a .py file. You can also download the Notebook file (.ipynb) but this type of file will only run within a Jupyter Notebook.\n",
    "\n",
    "### File > Download As > Python (.py)\n",
    "\n",
    "The browser may warn you that the file is unsafe, but the file is safe because you wrote the code!\n",
    "\n",
    "You can then save the file to your flash drive OR email it to yourself."
   ]
  }
 ],
 "metadata": {
  "kernelspec": {
   "display_name": "Python 3",
   "language": "python",
   "name": "python3"
  },
  "language_info": {
   "codemirror_mode": {
    "name": "ipython",
    "version": 3
   },
   "file_extension": ".py",
   "mimetype": "text/x-python",
   "name": "python",
   "nbconvert_exporter": "python",
   "pygments_lexer": "ipython3",
   "version": "3.7.3"
  }
 },
 "nbformat": 4,
 "nbformat_minor": 2
}
