{
 "cells": [
  {
   "cell_type": "markdown",
   "metadata": {},
   "source": [
    "# Methods lab\n",
    "Read the questions and code the solutions to the problems"
   ]
  },
  {
   "cell_type": "markdown",
   "metadata": {},
   "source": [
    "## 1\n",
    "Prompt the user 4 times to gather the following information: \n",
    "  * First name,\n",
    "  * Last name,\n",
    "  * Their hobbies,\n",
    "  * Do they like Python?\n",
    "  \n",
    "Now to make sure we’ve formatted everything correctly. Wrongly formatted data is one of our worst nightmares!\n",
    "\n",
    "1. Capitalize the user’s first and last names if they’re not already.\n",
    "2. Get the user’s hobbies into a list so you can do something with it.\n",
    "3. Convert the user’s text answer to question 4 into a Boolean.\n",
    "4. finally, print, to the screen the following:\n",
    "    * The user’s last name, then their first name, comma-separated on one line\n",
    "    * If the user has only one hobby: Print – “{first name}’s only hobby is {hobby}”\n",
    "    * If the user has more than one hobby: Print – “{first name}’s hobbies are: “ then each hobby on a new line.\n",
    "    * Finally, print – “{first name} likes/dislikes Python.” on a separate line."
   ]
  },
  {
   "cell_type": "code",
   "execution_count": 1,
   "metadata": {},
   "outputs": [],
   "source": [
    "# code here"
   ]
  },
  {
   "cell_type": "markdown",
   "metadata": {},
   "source": [
    "## 2\n",
    "Using the code from the first lab, convert the list of hobbies into a dictionary (there are multiple ways to do this, I would do some research).\n",
    "\n",
    "Assume that the order that the user entered in the hobbies depicts their favorites (ie, first one entered was their favorite, last their least favorite).\n",
    "\n",
    "Afterward, print the hobbies from the dictionary like so.\n",
    "~~~\n",
    "> 1 : {Hobby}\n",
    "> 2 : {Hobby} ...\n",
    "~~~"
   ]
  },
  {
   "cell_type": "code",
   "execution_count": null,
   "metadata": {},
   "outputs": [],
   "source": [
    "# code here"
   ]
  },
  {
   "cell_type": "markdown",
   "metadata": {},
   "source": [
    "# 3\n",
    "Let’s imagine that we’re doing a little ETL (extract, transform, load). We always know the fields for the table we’re trying to load to – in this case it has the fields:\n",
    "\n",
    "**{first_name, last_name, employee_id, salary}**\n",
    "\n",
    "and we’re wanting to put the information from an unknown table into it. We have the extract table’s fields stored in a variable called incoming_fields – which has fields:\n",
    "\n",
    "**{first_name, last_name, employee_id, salary, spouse, child_1, child_1, address, pets}**\n",
    "\n",
    "Now imagine that you don’t know what fields will be coming in, but you want a list of the fields that are in both. What would be an easy way to get this list? Now code it."
   ]
  },
  {
   "cell_type": "code",
   "execution_count": null,
   "metadata": {},
   "outputs": [],
   "source": [
    "# Code here"
   ]
  }
 ],
 "metadata": {
  "kernelspec": {
   "display_name": "Python 3",
   "language": "python",
   "name": "python3"
  },
  "language_info": {
   "codemirror_mode": {
    "name": "ipython",
    "version": 3
   },
   "file_extension": ".py",
   "mimetype": "text/x-python",
   "name": "python",
   "nbconvert_exporter": "python",
   "pygments_lexer": "ipython3",
   "version": "3.6.5"
  }
 },
 "nbformat": 4,
 "nbformat_minor": 2
}
